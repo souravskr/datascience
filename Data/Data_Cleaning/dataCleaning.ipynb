{
 "cells": [
  {
   "cell_type": "code",
   "execution_count": 150,
   "metadata": {},
   "outputs": [],
   "source": [
    "import pandas as pd\n",
    "import numpy as np\n",
    "from datetime import datetime\n",
    "from datetime import date"
   ]
  },
  {
   "cell_type": "markdown",
   "metadata": {},
   "source": [
    "#### Data Imorting and Cleaning"
   ]
  },
  {
   "cell_type": "code",
   "execution_count": 153,
   "metadata": {},
   "outputs": [],
   "source": [
    "main_dataFrame = pd.read_csv('coordinates.csv')\n",
    "dataFrame = main_dataFrame.dropna(axis=0, how='all', thresh=None, subset=None)\n",
    "dataFrame = dataFrame.reset_index(drop=True)\n",
    "dataFrame.speed.replace(-1, 0, inplace=True)\n"
   ]
  },
  {
   "cell_type": "markdown",
   "metadata": {},
   "source": [
    "#### Converting \"timestamp\" to date and time format to creating three seperate columns \"date\", \"time\" and  \"weekday\""
   ]
  },
  {
   "cell_type": "code",
   "execution_count": 154,
   "metadata": {},
   "outputs": [],
   "source": [
    "dataFrame.timestamp = pd.to_datetime(dataFrame.timestamp)\n",
    "dataFrame['time'] = dataFrame.timestamp.dt.time\n",
    "dataFrame['weekday'] = dataFrame.timestamp.dt.weekday_name\n",
    "dataFrame['date'] = dataFrame.timestamp.dt.date\n",
    "dataFrame['location'] = dataFrame.agg('[{0[latitude]}, {0[longitude]}]'.format, axis=1)"
   ]
  },
  {
   "cell_type": "code",
   "execution_count": 155,
   "metadata": {},
   "outputs": [
    {
     "data": {
      "text/plain": [
       "(38587, 10)"
      ]
     },
     "execution_count": 155,
     "metadata": {},
     "output_type": "execute_result"
    }
   ],
   "source": [
    "dataFrame.shape"
   ]
  },
  {
   "cell_type": "code",
   "execution_count": 156,
   "metadata": {},
   "outputs": [
    {
     "data": {
      "text/html": [
       "<div>\n",
       "<style scoped>\n",
       "    .dataframe tbody tr th:only-of-type {\n",
       "        vertical-align: middle;\n",
       "    }\n",
       "\n",
       "    .dataframe tbody tr th {\n",
       "        vertical-align: top;\n",
       "    }\n",
       "\n",
       "    .dataframe thead th {\n",
       "        text-align: right;\n",
       "    }\n",
       "</style>\n",
       "<table border=\"1\" class=\"dataframe\">\n",
       "  <thead>\n",
       "    <tr style=\"text-align: right;\">\n",
       "      <th></th>\n",
       "      <th>uuid</th>\n",
       "      <th>latitude</th>\n",
       "      <th>longitude</th>\n",
       "      <th>altitude</th>\n",
       "      <th>speed</th>\n",
       "      <th>timestamp</th>\n",
       "      <th>time</th>\n",
       "      <th>weekday</th>\n",
       "      <th>date</th>\n",
       "      <th>location</th>\n",
       "    </tr>\n",
       "  </thead>\n",
       "  <tbody>\n",
       "    <tr>\n",
       "      <th>0</th>\n",
       "      <td>2C08C96C-2595-4813-9EED-F1C8BE107854</td>\n",
       "      <td>47.571094</td>\n",
       "      <td>-52.734079</td>\n",
       "      <td>63.291878</td>\n",
       "      <td>0.00</td>\n",
       "      <td>2017-07-14 13:34:00</td>\n",
       "      <td>13:34:00</td>\n",
       "      <td>Friday</td>\n",
       "      <td>2017-07-14</td>\n",
       "      <td>[47.571094, -52.734079]</td>\n",
       "    </tr>\n",
       "    <tr>\n",
       "      <th>1</th>\n",
       "      <td>2C08C96C-2595-4813-9EED-F1C8BE107854</td>\n",
       "      <td>47.568872</td>\n",
       "      <td>-52.734090</td>\n",
       "      <td>72.342346</td>\n",
       "      <td>5.55</td>\n",
       "      <td>2017-07-14 16:29:00</td>\n",
       "      <td>16:29:00</td>\n",
       "      <td>Friday</td>\n",
       "      <td>2017-07-14</td>\n",
       "      <td>[47.568872, -52.73409]</td>\n",
       "    </tr>\n",
       "    <tr>\n",
       "      <th>2</th>\n",
       "      <td>2C08C96C-2595-4813-9EED-F1C8BE107854</td>\n",
       "      <td>47.569078</td>\n",
       "      <td>-52.734421</td>\n",
       "      <td>58.217102</td>\n",
       "      <td>0.00</td>\n",
       "      <td>2017-07-14 16:29:00</td>\n",
       "      <td>16:29:00</td>\n",
       "      <td>Friday</td>\n",
       "      <td>2017-07-14</td>\n",
       "      <td>[47.569078000000005, -52.734421]</td>\n",
       "    </tr>\n",
       "    <tr>\n",
       "      <th>3</th>\n",
       "      <td>2C08C96C-2595-4813-9EED-F1C8BE107854</td>\n",
       "      <td>47.570325</td>\n",
       "      <td>-52.731555</td>\n",
       "      <td>44.922607</td>\n",
       "      <td>10.90</td>\n",
       "      <td>2017-07-14 16:30:00</td>\n",
       "      <td>16:30:00</td>\n",
       "      <td>Friday</td>\n",
       "      <td>2017-07-14</td>\n",
       "      <td>[47.570325, -52.73155500000001]</td>\n",
       "    </tr>\n",
       "    <tr>\n",
       "      <th>4</th>\n",
       "      <td>2C08C96C-2595-4813-9EED-F1C8BE107854</td>\n",
       "      <td>47.569977</td>\n",
       "      <td>-52.732192</td>\n",
       "      <td>46.451965</td>\n",
       "      <td>2.78</td>\n",
       "      <td>2017-07-14 16:30:00</td>\n",
       "      <td>16:30:00</td>\n",
       "      <td>Friday</td>\n",
       "      <td>2017-07-14</td>\n",
       "      <td>[47.569977, -52.732192000000005]</td>\n",
       "    </tr>\n",
       "  </tbody>\n",
       "</table>\n",
       "</div>"
      ],
      "text/plain": [
       "                                   uuid   latitude  longitude   altitude  \\\n",
       "0  2C08C96C-2595-4813-9EED-F1C8BE107854  47.571094 -52.734079  63.291878   \n",
       "1  2C08C96C-2595-4813-9EED-F1C8BE107854  47.568872 -52.734090  72.342346   \n",
       "2  2C08C96C-2595-4813-9EED-F1C8BE107854  47.569078 -52.734421  58.217102   \n",
       "3  2C08C96C-2595-4813-9EED-F1C8BE107854  47.570325 -52.731555  44.922607   \n",
       "4  2C08C96C-2595-4813-9EED-F1C8BE107854  47.569977 -52.732192  46.451965   \n",
       "\n",
       "   speed           timestamp      time weekday        date  \\\n",
       "0   0.00 2017-07-14 13:34:00  13:34:00  Friday  2017-07-14   \n",
       "1   5.55 2017-07-14 16:29:00  16:29:00  Friday  2017-07-14   \n",
       "2   0.00 2017-07-14 16:29:00  16:29:00  Friday  2017-07-14   \n",
       "3  10.90 2017-07-14 16:30:00  16:30:00  Friday  2017-07-14   \n",
       "4   2.78 2017-07-14 16:30:00  16:30:00  Friday  2017-07-14   \n",
       "\n",
       "                           location  \n",
       "0           [47.571094, -52.734079]  \n",
       "1            [47.568872, -52.73409]  \n",
       "2  [47.569078000000005, -52.734421]  \n",
       "3   [47.570325, -52.73155500000001]  \n",
       "4  [47.569977, -52.732192000000005]  "
      ]
     },
     "execution_count": 156,
     "metadata": {},
     "output_type": "execute_result"
    }
   ],
   "source": [
    "dataFrame.head()"
   ]
  },
  {
   "cell_type": "code",
   "execution_count": 126,
   "metadata": {},
   "outputs": [
    {
     "data": {
      "text/plain": [
       "uuid                 object\n",
       "latitude            float64\n",
       "longitude           float64\n",
       "altitude            float64\n",
       "speed               float64\n",
       "timestamp    datetime64[ns]\n",
       "time                 object\n",
       "weekday              object\n",
       "date                 object\n",
       "dtype: object"
      ]
     },
     "execution_count": 126,
     "metadata": {},
     "output_type": "execute_result"
    }
   ],
   "source": [
    "dataFrame.dtypes"
   ]
  },
  {
   "cell_type": "code",
   "execution_count": 127,
   "metadata": {},
   "outputs": [
    {
     "data": {
      "text/plain": [
       "uuid             0\n",
       "latitude         0\n",
       "longitude        0\n",
       "altitude     20689\n",
       "speed            0\n",
       "timestamp        0\n",
       "time             0\n",
       "weekday          0\n",
       "date             0\n",
       "dtype: int64"
      ]
     },
     "execution_count": 127,
     "metadata": {},
     "output_type": "execute_result"
    }
   ],
   "source": [
    "dataFrame.isnull().sum()"
   ]
  },
  {
   "cell_type": "code",
   "execution_count": null,
   "metadata": {},
   "outputs": [],
   "source": []
  }
 ],
 "metadata": {
  "kernelspec": {
   "display_name": "Python 3",
   "language": "python",
   "name": "python3"
  },
  "language_info": {
   "codemirror_mode": {
    "name": "ipython",
    "version": 3
   },
   "file_extension": ".py",
   "mimetype": "text/x-python",
   "name": "python",
   "nbconvert_exporter": "python",
   "pygments_lexer": "ipython3",
   "version": "3.7.4"
  }
 },
 "nbformat": 4,
 "nbformat_minor": 2
}
